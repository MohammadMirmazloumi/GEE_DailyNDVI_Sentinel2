{
 "cells": [
  {
   "cell_type": "code",
   "execution_count": 1,
   "id": "d82b519c",
   "metadata": {},
   "outputs": [
    {
     "name": "stderr",
     "output_type": "stream",
     "text": [
      "C:\\Users\\mirmazloumi\\Anaconda3\\envs\\env\\lib\\site-packages\\google\\auth\\crypt\\_cryptography_rsa.py:22: CryptographyDeprecationWarning: Python 3.6 is no longer supported by the Python core team. Therefore, support for it is deprecated in cryptography. The next release of cryptography will remove support for Python 3.6.\n",
      "  import cryptography.exceptions\n"
     ]
    },
    {
     "data": {
      "text/html": [
       "<p>To authorize access needed by Earth Engine, open the following\n",
       "        URL in a web browser and follow the instructions:</p>\n",
       "        <p><a href=https://code.earthengine.google.com/client-auth?scopes=https%3A//www.googleapis.com/auth/earthengine%20https%3A//www.googleapis.com/auth/devstorage.full_control&request_id=R8Px0tvK0x5y9BBHUsCeLLmqXiAC7qO0eUCXqe1THic&tc=LDvbW9gdZgmhBWWZKd7FFPFZKgoWVqwmrBCU2yKM4fk&cc=P4MXvgzfspzL0mTn5os4cfnG43yZqLdg9C8klpVNhwE>https://code.earthengine.google.com/client-auth?scopes=https%3A//www.googleapis.com/auth/earthengine%20https%3A//www.googleapis.com/auth/devstorage.full_control&request_id=R8Px0tvK0x5y9BBHUsCeLLmqXiAC7qO0eUCXqe1THic&tc=LDvbW9gdZgmhBWWZKd7FFPFZKgoWVqwmrBCU2yKM4fk&cc=P4MXvgzfspzL0mTn5os4cfnG43yZqLdg9C8klpVNhwE</a></p>\n",
       "        <p>The authorization workflow will generate a code, which you should paste in the box below.</p>\n",
       "        "
      ],
      "text/plain": [
       "<IPython.core.display.HTML object>"
      ]
     },
     "metadata": {},
     "output_type": "display_data"
    },
    {
     "name": "stdout",
     "output_type": "stream",
     "text": [
      "Enter verification code: 4/1AVHEtk5t7_bh0DSHBOx7__UY__Qb14r9nt1KbTPGs161watKr_JY2DHkodw\n",
      "\n",
      "Successfully saved authorization token.\n"
     ]
    }
   ],
   "source": [
    "## This code generates daily NDVI images from Sentinel-2 Data using Google Earth Engine (GEE) API\n",
    "\n",
    "# Initializing GEE\n",
    "import ee\n",
    "# Trigger the authentication flow.\n",
    "# Initialize the library.\n",
    "ee.Authenticate()\n",
    "ee.Initialize()"
   ]
  },
  {
   "cell_type": "code",
   "execution_count": 4,
   "id": "a1807788",
   "metadata": {},
   "outputs": [],
   "source": [
    "## Import Libraries\n",
    "\n",
    "import geopandas as gpd\n",
    "import pandas as pd\n",
    "import numpy as np\n",
    "import matplotlib.pyplot as plt\n"
   ]
  },
  {
   "cell_type": "code",
   "execution_count": 5,
   "id": "b15475ae",
   "metadata": {},
   "outputs": [],
   "source": [
    "## Functions\n",
    "\n",
    "## Sentinel-2 Cloud Masking\n",
    "\n",
    "def maskS2clouds(image):\n",
    "    qa = image.select('QA60')\n",
    "\n",
    "    # Bits 10 and 11 are clouds and cirrus, respectively.\n",
    "    # bitwise left shift operator <<\n",
    "    cloudBitMask = 1 << 10\n",
    "    cirrusBitMask = 1 << 11\n",
    "\n",
    "    # Both flags should be set to zero, indicating clear conditions.\n",
    "    # keep all the pixels where its bit 10 and 11 are both zeros and mask every pixel where this condition is not met.\n",
    "    mask = qa.bitwiseAnd(cloudBitMask).eq(0) \\\n",
    "           .And(qa.bitwiseAnd(cirrusBitMask).eq(0))\n",
    "\n",
    "    return image.updateMask(mask).divide(10000) \\\n",
    "                .select(\"B.*\") \\\n",
    "                .copyProperties(image, [\"system:time_start\"])\n",
    "\n",
    "## NDVI\n",
    "def addmNDVI(image):\n",
    "    ndvi = image.normalizedDifference(['B8_median', 'B4_median']).rename('mNDVI')\n",
    "    return image.addBands(ndvi)\n",
    "\n",
    "## Reading images name and date\n",
    "\n",
    "def addNameAndDate(image):\n",
    "    date = ee.Date(image.get('system:time_start')).format('YYYY-MM-dd')\n",
    "    name = image.get('system:index')\n",
    "    return image.set({'date': date, 'name': name})\n",
    "\n",
    "# Generating Daily Mosaic\n",
    "def day_mosaics(date, newlist):\n",
    "    # Cast\n",
    "    date = ee.Date(date)\n",
    "    newlist = ee.List(newlist)\n",
    "\n",
    "    # Filter collection between date and the next day\n",
    "    filtered = S2Images.filterDate(date, date.advance(1,'day'))\n",
    "\n",
    "    # Make the mosaic\n",
    "    #image = filtered.mosaic() ## In case of no need to reducer.\n",
    "    image = filtered.reduce(reducer)\n",
    "    # Add the mosaic to a list only if the collection has images\n",
    "    return ee.List(ee.Algorithms.If(filtered.size(), newlist.add(image.set('date', date).set('name', ee.String('Image_').cat(ee.Algorithms.String(date.format('YYYY-MM-dd'))))), newlist))\n"
   ]
  },
  {
   "cell_type": "code",
   "execution_count": 6,
   "id": "38969808",
   "metadata": {},
   "outputs": [],
   "source": [
    "## Reading the shapefile from a local directory and changing it to a GEE-based geometry\n",
    "shapefile_path_real = r'C:\\Users\\mirmazloumi\\Nextcloud\\01_data\\Study_Area_vector\\Busia\\Busia_jsn.geojson'\n",
    "gdf_r = gpd.read_file(shapefile_path_real)\n",
    "geometry_r = gdf_r['geometry'][0]\n",
    "Busia_shapefile = ee.Geometry(geometry_r.__geo_interface__)"
   ]
  },
  {
   "cell_type": "code",
   "execution_count": 9,
   "id": "cf74602f",
   "metadata": {},
   "outputs": [
    {
     "name": "stdout",
     "output_type": "stream",
     "text": [
      "134\n"
     ]
    }
   ],
   "source": [
    "## Number of Sentinel-2 images for particular dates\n",
    "\n",
    "startDate = '2021-01-01'\n",
    "endDate = '2022-01-01'\n",
    "\n",
    "# Depending on the type of Sentinel-2 data, the collection can be selected.\n",
    "# The region of interest\n",
    "# The period of interest\n",
    "# The minimum cloud cover in images\n",
    "# Applying cloud masking function\n",
    "\n",
    "S2Images = ee.ImageCollection('COPERNICUS/S2_SR')\\\n",
    "    .filterBounds(Busia_shapefile)\\\n",
    "    .filterDate(startDate, endDate)\\\n",
    "    .filter(ee.Filter.lt('CLOUDY_PIXEL_PERCENTAGE',20))\\\n",
    "    .map(maskS2clouds)\\\n",
    "\n",
    "## Getting the number of images\n",
    "print(S2Images.size().getInfo())"
   ]
  },
  {
   "cell_type": "code",
   "execution_count": 17,
   "id": "ac49da68",
   "metadata": {},
   "outputs": [
    {
     "name": "stdout",
     "output_type": "stream",
     "text": [
      "27\n"
     ]
    }
   ],
   "source": [
    "## Generating Daily Mosaics\n",
    "\n",
    "# If you get this error: \"EEException: User memory limit exceeded.\", you can change the finish date to half ...\n",
    "# ... a year. So, finally you need to run the code from here for two times.\n",
    "start = ee.Date.fromYMD(2021,1,1)\n",
    "finish = ee.Date.fromYMD(2021,7,1)\n",
    "\n",
    "\n",
    "# Difference in days between start and finish\n",
    "diff = finish.difference(start, 'day')\n",
    "\n",
    "# Make a list of all dates\n",
    "range_list = ee.List.sequence(0, diff.subtract(1)).map(lambda day: start.advance(day,'day'))\n",
    "\n",
    "## Since there are overlapped images over same pixels on each day, a reducer can get a value for it.\n",
    "# Here, a meadian reducer is used:\n",
    "reducer = ee.Reducer.median()\n",
    "\n",
    "\n",
    "# Iterate over the range to make a new list, and then cast the list to an imagecollection\n",
    "daily_col = ee.ImageCollection(ee.List(range_list.iterate(day_mosaics, ee.List([]))))\n",
    "\n",
    "# Number of Images per day:\n",
    "print(daily_col.size().getInfo())\n"
   ]
  },
  {
   "cell_type": "code",
   "execution_count": 12,
   "id": "921887b4",
   "metadata": {},
   "outputs": [],
   "source": [
    "# Generating daily NDVI maps\n",
    "ndvi_col = daily_col.map(addmNDVI)\n",
    "# Getting the ndvi layer\n",
    "ndvi_only = ndvi_col.select('mNDVI')"
   ]
  },
  {
   "cell_type": "code",
   "execution_count": 13,
   "id": "9a66117c",
   "metadata": {},
   "outputs": [
    {
     "name": "stderr",
     "output_type": "stream",
     "text": [
      "C:\\Users\\mirmazloumi\\Anaconda3\\envs\\env\\lib\\site-packages\\ipykernel_launcher.py:16: ShapelyDeprecationWarning: Iteration over multi-part geometries is deprecated and will be removed in Shapely 2.0. Use the `geoms` property to access the constituent parts of a multi-part geometry.\n",
      "  app.launch_new_instance()\n"
     ]
    }
   ],
   "source": [
    "## Making a GEE-based shapefile to crop the final output as the chosed shapefiles.\n",
    "# Normally, the outputs are cropped as rectangle, but this code crops as the imported shapefile.\n",
    "\n",
    "# Create a list to hold the polygon coordinates\n",
    "polygons = []\n",
    "\n",
    "# Loop over each geometry in the GeoDataFrame and extract the exterior coordinates\n",
    "for polygon in gdf_r['geometry']:\n",
    "    # Check if the geometry is a Polygon or a MultiPolygon\n",
    "    if polygon.geom_type == 'Polygon':\n",
    "        exterior_coords = []\n",
    "        for coords in polygon.exterior.coords:\n",
    "            exterior_coords.append(coords)\n",
    "        polygons.append(exterior_coords)\n",
    "    elif polygon.geom_type == 'MultiPolygon':\n",
    "        for poly in polygon:\n",
    "            exterior_coords = []\n",
    "            for coords in poly.exterior.coords:\n",
    "                exterior_coords.append(coords)\n",
    "            polygons.append(exterior_coords)\n",
    "\n",
    "# Create an EE polygon geometry using the extracted coordinates\n",
    "Busia_shapefile_gee = ee.Geometry.Polygon(polygons)"
   ]
  },
  {
   "cell_type": "code",
   "execution_count": 12,
   "id": "3e07d3c5",
   "metadata": {},
   "outputs": [
    {
     "name": "stderr",
     "output_type": "stream",
     "text": [
      "C:\\Users\\mirmazloumi\\Anaconda3\\envs\\env\\lib\\site-packages\\ipykernel_launcher.py:17: ShapelyDeprecationWarning: Iteration over multi-part geometries is deprecated and will be removed in Shapely 2.0. Use the `geoms` property to access the constituent parts of a multi-part geometry.\n"
     ]
    },
    {
     "name": "stdout",
     "output_type": "stream",
     "text": [
      "Exporting Image_2021-06-05 clipped...\n",
      "Exporting Image_2021-06-10 clipped...\n",
      "Exporting Image_2021-06-20 clipped...\n",
      "Exporting Image_2021-06-25 clipped...\n",
      "Exporting Image_2021-06-30 clipped...\n",
      "Exporting Image_2021-07-05 clipped...\n",
      "Exporting Image_2021-07-10 clipped...\n",
      "Exporting Image_2021-07-20 clipped...\n",
      "Exporting Image_2021-07-25 clipped...\n",
      "Exporting Image_2021-08-04 clipped...\n",
      "Exporting Image_2021-08-24 clipped...\n",
      "Exporting Image_2021-08-29 clipped...\n",
      "Exporting Image_2021-09-08 clipped...\n",
      "Exporting Image_2021-09-13 clipped...\n",
      "Exporting Image_2021-09-23 clipped...\n",
      "Exporting Image_2021-09-28 clipped...\n",
      "Exporting Image_2021-10-08 clipped...\n",
      "Exporting Image_2021-10-13 clipped...\n",
      "Exporting Image_2021-10-18 clipped...\n",
      "Exporting Image_2021-10-23 clipped...\n",
      "Exporting Image_2021-11-17 clipped...\n",
      "Exporting Image_2021-11-27 clipped...\n",
      "Exporting Image_2021-12-02 clipped...\n",
      "Exporting Image_2021-12-07 clipped...\n",
      "Exporting Image_2021-12-12 clipped...\n",
      "Exporting Image_2021-12-22 clipped...\n",
      "Exporting Image_2021-12-27 clipped...\n"
     ]
    }
   ],
   "source": [
    "## Export NDVI images as TIFF file to Google Drive\n",
    "\n",
    "# Set the export parameters\n",
    "export_params = {\n",
    "    'driveFolder': 'mNDV_Busia_2021',\n",
    "    'region': Busia_shapefile_gee,\n",
    "    'scale': 10,\n",
    "    'crs': 'EPSG:4326',\n",
    "    'maxPixels': 1e13\n",
    "}\n",
    "\n",
    "\n",
    "for i in range(0,ndvi_only.size().getInfo()):\n",
    "    # Get the i-th image from the collection\n",
    "    image = ee.Image(ndvi_only.toList(ndvi_only.size()).get(i))\n",
    "\n",
    "    # Get the image name\n",
    "    image_name = image.get('name').getInfo()\n",
    "\n",
    "    # Select the NDVI band\n",
    "    ndvi_band = image.select('mNDVI')\n",
    "\n",
    "    # Clip the NDVI band using the Busia shapefile geometry\n",
    "    ndvi_band_clipped = ndvi_band.clip(Busia_shapefile_gee)\n",
    "\n",
    "    # Set the export parameters for the clipped NDVI band\n",
    "    export_params['image'] = ndvi_band_clipped\n",
    "    export_params['description'] = 'mNDVI_' + image_name + '_clipped'\n",
    "    \n",
    "    # Export the clipped NDVI band to Google Drive\n",
    "    task = ee.batch.Export.image.toDrive(**export_params)\n",
    "    task.start()\n",
    "\n",
    "    # Printing the exporting of images\n",
    "    print('Exporting ' + image_name + ' clipped...') "
   ]
  },
  {
   "cell_type": "code",
   "execution_count": 15,
   "id": "741d6a25",
   "metadata": {},
   "outputs": [
    {
     "data": {
      "application/vnd.jupyter.widget-view+json": {
       "model_id": "29c5ec4675f7401c804dad5f7dd3bd07",
       "version_major": 2,
       "version_minor": 0
      },
      "text/plain": [
       "Map(center=[0.39263292847602566, 34.19357422726364], controls=(WidgetControl(options=['position', 'transparent…"
      ]
     },
     "metadata": {},
     "output_type": "display_data"
    }
   ],
   "source": [
    "## Displaying the NDVI maps\n",
    "\n",
    "import geemap\n",
    "vis_params = {\n",
    "    'min': 0,\n",
    "    'max': 1,\n",
    "    'palette': ['red', 'yellow', 'green']\n",
    "}\n",
    "\n",
    "# Create an interactive map that displays each NDVI image as a tile layer\n",
    "Map = geemap.Map()\n",
    "Map.centerObject(Busia_shapefile, 10)\n",
    "\n",
    "for i in range(ndvi_only.size().getInfo()):\n",
    "    image = ee.Image(ndvi_only.toList(ndvi_only.size()).get(i))\n",
    "    layer_name = 'mNDVI {}'.format(i + 1)\n",
    "    Map.addLayer(image.select('mNDVI').clip(Busia_shapefile), vis_params, layer_name)\n",
    "\n",
    "# Display the map\n",
    "Map"
   ]
  },
  {
   "cell_type": "code",
   "execution_count": null,
   "id": "f3c69299",
   "metadata": {},
   "outputs": [],
   "source": []
  }
 ],
 "metadata": {
  "kernelspec": {
   "display_name": "Python 3",
   "language": "python",
   "name": "python3"
  },
  "language_info": {
   "codemirror_mode": {
    "name": "ipython",
    "version": 3
   },
   "file_extension": ".py",
   "mimetype": "text/x-python",
   "name": "python",
   "nbconvert_exporter": "python",
   "pygments_lexer": "ipython3",
   "version": "3.6.13"
  }
 },
 "nbformat": 4,
 "nbformat_minor": 5
}
